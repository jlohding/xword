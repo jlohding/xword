{
 "cells": [
  {
   "cell_type": "code",
   "execution_count": 1,
   "metadata": {},
   "outputs": [],
   "source": [
    "import yaml\n",
    "import re\n",
    "from agent import AgentSystem\n",
    "from answer import AnswerGenerator\n",
    "from crossword import Crossword\n",
    "\n",
    "\n",
    "with open('config.yaml', 'r') as f:\n",
    "        configs = yaml.safe_load(f)"
   ]
  },
  {
   "cell_type": "code",
   "execution_count": 2,
   "metadata": {},
   "outputs": [],
   "source": [
    "answer_generator = AnswerGenerator(configs)\n",
    "agent = AgentSystem(configs)#.set_logging(False)"
   ]
  },
  {
   "cell_type": "code",
   "execution_count": 3,
   "metadata": {},
   "outputs": [],
   "source": [
    "answers = answer_generator.get_candidates(user_topic=\"sports\", max_len=10)"
   ]
  },
  {
   "cell_type": "code",
   "execution_count": 4,
   "metadata": {},
   "outputs": [
    {
     "data": {
      "text/plain": [
       "[('HOST', 'One who throws parties or provides a platform (4)'),\n",
       " ('FOOTBALL', 'Sport in need of a goal (8)'),\n",
       " ('COACH', \"Mentor's transport (5)\"),\n",
       " ('HOCKEY', \"Stick and puck's icy pursuit (6)\"),\n",
       " ('ESPN', 'Sports channel revolutionized, pen ultimate letters? (4)'),\n",
       " ('BASEBALL', 'Sport where runs aimlessly (8)'),\n",
       " ('MEDIUM', 'Means to communicate with spirits or average in size (6)'),\n",
       " ('GAME', \"Play's the thing (4)\"),\n",
       " ('WRESTLE', 'Struggle at the mat (7)'),\n",
       " ('BASKETBALL', 'Hoop dream pursuit (10)'),\n",
       " ('SOCCER', 'Match in a stadium (6)'),\n",
       " ('ATHLETIC', 'Fit cat shell cracks it (8)'),\n",
       " ('TV', 'Small screen to see? Yes! (2)'),\n",
       " ('CLUB', 'Exclusive beat connects members (4)')]"
      ]
     },
     "execution_count": 4,
     "metadata": {},
     "output_type": "execute_result"
    }
   ],
   "source": [
    "word_list = []\n",
    "for answer in set(answers):\n",
    "    clue = agent.generate_clue(answer)\n",
    "    clean_sentence = re.match(r\"(\\d*)?([^\\(]*)(\\(P\\d+\\))?\", clue.clue).group(2).strip()\n",
    "    word_list.append(\n",
    "        (answer.upper(), clean_sentence+f\" ({len(answer)})\")\n",
    "    )\n",
    "word_list"
   ]
  },
  {
   "cell_type": "code",
   "execution_count": 5,
   "metadata": {},
   "outputs": [
    {
     "name": "stdout",
     "output_type": "stream",
     "text": [
      "8 out of 14 words used\n",
      "\n",
      "F - G A M E - - - - \n",
      "O - - T - - - - - - \n",
      "O - - H O C K E Y - \n",
      "T - - L - O - - - - \n",
      "B A S E B A L L - - \n",
      "A - - T - C - - - - \n",
      "L - - I - H O S T - \n",
      "L - - C - - - - V - \n",
      "- - - - - - - - - - \n",
      "- - - - - - - - - - \n",
      "\n",
      "ACROSS:\n",
      "(1, 3) - Play's the thing (4)\n",
      "(3, 4) - Stick and puck's icy pursuit (6)\n",
      "(5, 1) - Sport where runs aimlessly (8)\n",
      "(7, 6) - One who throws parties or provides a platform (4)\n",
      "DOWN:\n",
      "(1, 1) - Sport in need of a goal (8)\n",
      "(1, 4) - Fit cat shell cracks it (8)\n",
      "(3, 6) - Mentor's transport (5)\n",
      "(7, 9) - Small screen to see? Yes! (2)\n"
     ]
    }
   ],
   "source": [
    "cross = Crossword(10, 10, \"-\", 2000, word_list)\n",
    "cross.compute_crossword(time_permitted=1.)\n",
    "print(len(cross.current_word_list), 'out of', len(word_list), \"words used\\n\")\n",
    "print(cross.solution())\n",
    "across, down = cross.legend()\n",
    "\n",
    "print(\"ACROSS:\")\n",
    "for x in across:\n",
    "    print(x)\n",
    "print(\"DOWN:\")\n",
    "for x in down:\n",
    "    print(x)"
   ]
  }
 ],
 "metadata": {
  "kernelspec": {
   "display_name": "env",
   "language": "python",
   "name": "python3"
  },
  "language_info": {
   "codemirror_mode": {
    "name": "ipython",
    "version": 3
   },
   "file_extension": ".py",
   "mimetype": "text/x-python",
   "name": "python",
   "nbconvert_exporter": "python",
   "pygments_lexer": "ipython3",
   "version": "3.10.12"
  }
 },
 "nbformat": 4,
 "nbformat_minor": 2
}
